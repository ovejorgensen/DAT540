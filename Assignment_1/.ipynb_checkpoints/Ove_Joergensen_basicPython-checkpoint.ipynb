{
 "cells": [
  {
   "cell_type": "markdown",
   "metadata": {},
   "source": [
    "<h1>Problem 1</h1>"
   ]
  },
  {
   "cell_type": "markdown",
   "metadata": {},
   "source": [
    "Plays a game of Rock, Paper, Scissors\n",
    "    \n",
    "Args:\n",
    "    player_1_hand: The move of player 1\n",
    "    player_2_hand: The move of player 2\n",
    "\n",
    "Returns:\n",
    "    Either draw or the winning player of the game"
   ]
  },
  {
   "cell_type": "code",
   "execution_count": 1,
   "metadata": {},
   "outputs": [],
   "source": [
    "def RoPaSc(player_1_hand, player_2_hand):\n",
    "    if player_1_hand == player_2_hand: return \"Draw\"\n",
    "    elif player_1_hand == \"scissors\":\n",
    "        if player_2_hand == \"paper\": result = 1\n",
    "        else: result = 2\n",
    "    elif player_1_hand == \"paper\":\n",
    "        if player_2_hand == \"rock\": result = 1\n",
    "        else: result = 2\n",
    "    else:\n",
    "        if player_2_hand == \"scissors\": result = 1\n",
    "        else: result = 2 \n",
    "\n",
    "    return \"Player %s: wins.\" % result"
   ]
  },
  {
   "cell_type": "code",
   "execution_count": null,
   "metadata": {
    "scrolled": true
   },
   "outputs": [
    {
     "name": "stdout",
     "output_type": "stream",
     "text": [
      "\n",
      "Player 1, select hand: \n"
     ]
    }
   ],
   "source": [
    "    print(\"\\nPlayer 1, select hand: \")\n",
    "    p1 = input().lower()\n",
    "    print(\"Player 2, select hand: \")\n",
    "    p2 = input().lower()\n",
    "\n",
    "    print(\"\\nPlayer 1: %s\" % p1)\n",
    "    print(\"Player 2: %s\" % p2)\n",
    "    print(RoPaSc(p1, p2))"
   ]
  },
  {
   "cell_type": "markdown",
   "metadata": {},
   "source": [
    "## Problem 2"
   ]
  },
  {
   "cell_type": "code",
   "execution_count": null,
   "metadata": {},
   "outputs": [],
   "source": [
    "def caesar(text, k):\n",
    "    result = \"\"\n",
    "    for letter in text:\n",
    "        ascii_num = ord(letter)\n",
    "        # Ensure all special characters are kept in the result\n",
    "        if (ascii_num < 65 or ascii_num > 122 ) or (ascii_num > 90 and ascii_num < 97):\n",
    "            result += letter\n",
    "            continue\n",
    "        \n",
    "        # Condition to keep capitalization of original letter\n",
    "        if (ascii_num < 97 and (ascii_num + k > 90)):\n",
    "                next = ascii_num + k - 26 # if above Z, return to A\n",
    "        elif (ascii_num >=97 and (ascii_num + k > 122)):\n",
    "                next = ascii_num + k - 26 # if above z, return to a\n",
    "        else:\n",
    "            next = ascii_num + k\n",
    "\n",
    "        result += chr(next)\n",
    "    \n",
    "    return result"
   ]
  },
  {
   "cell_type": "markdown",
   "metadata": {},
   "source": [
    "After letting the user input a birth year, the program will read the plain.txt file and cipher it using the caesar function."
   ]
  },
  {
   "cell_type": "code",
   "execution_count": null,
   "metadata": {},
   "outputs": [],
   "source": [
    "    print(\"Enter your birth year:\")\n",
    "    k = input()\n",
    "    k = int(k[len(k)-1])\n",
    "\n",
    "    with open(\"plain.txt\", encoding=\"utf-8\") as file:\n",
    "        text = file.read()\n",
    "\n",
    "    with open(\"cipher.txt\", \"w\") as cipher:\n",
    "        cipher.write(caesar(text, k))"
   ]
  },
  {
   "cell_type": "markdown",
   "metadata": {},
   "source": [
    "## Problem 3\n",
    "\n",
    "I create two functions to solve this problem. \n",
    "\n",
    "A function longestLine that simply takes an array as input and returns the longest consecutive line of ones.\n",
    "\n",
    "A function horizontals will iterate all the inner arrays of the input matrix and return the largest result after running each array through the longestLine function."
   ]
  },
  {
   "cell_type": "code",
   "execution_count": null,
   "metadata": {},
   "outputs": [],
   "source": [
    "import numpy as np\n",
    "\n",
    "def longestLine(arr):\n",
    "    row = 0 \n",
    "    row_longest = 0\n",
    "    for j, val in enumerate(arr):\n",
    "        if val == 0: \n",
    "            row = row_longest\n",
    "            row_longest = 0\n",
    "        elif val == 1:\n",
    "            row_longest = row_longest + 1\n",
    "        if j+1 == len(arr) and row_longest > row: row = row_longest\n",
    "    return row\n",
    "\n",
    "def horizontals(ndarr):\n",
    "    longest = 0\n",
    "    for i in ndarr:\n",
    "        row = longestLine(i)\n",
    "        if row > longest: longest = row\n",
    "    return longest"
   ]
  },
  {
   "cell_type": "markdown",
   "metadata": {},
   "source": [
    "Now to find the longest consecutive line I run the matrix and the matrix-transposed through the horizontal function to find the longest line both horizontally and vertically.\n",
    "The longest line from the diagonals are found using the longestLine function on the matrix and the flipped version of the matrix."
   ]
  },
  {
   "cell_type": "code",
   "execution_count": null,
   "metadata": {},
   "outputs": [],
   "source": [
    "M = np.array([[1, 1, 1, 0],\n",
    "              [0, 1, 1, 1],\n",
    "              [0, 1, 1, 1],\n",
    "              [0, 0, 0, 1]])\n",
    "\n",
    "longest = [horizontals(M)] # Longest horizontal\n",
    "longest.append(horizontals(M.transpose())) # Longest vertical\n",
    "longest.append(longestLine(M.diagonal())) # Longest diagonal\n",
    "longest.append(longestLine(np.fliplr(M).diagonal())) # Longest anti-diagonal\n",
    "\n",
    "print(\"Longest consecutive line: \", max(longest))"
   ]
  }
 ],
 "metadata": {
  "kernelspec": {
   "display_name": "Python 3",
   "language": "python",
   "name": "python3"
  },
  "language_info": {
   "codemirror_mode": {
    "name": "ipython",
    "version": 3
   },
   "file_extension": ".py",
   "mimetype": "text/x-python",
   "name": "python",
   "nbconvert_exporter": "python",
   "pygments_lexer": "ipython3",
   "version": "3.8.5"
  }
 },
 "nbformat": 4,
 "nbformat_minor": 4
}
