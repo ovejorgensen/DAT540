{
 "cells": [
  {
   "cell_type": "markdown",
   "metadata": {},
   "source": [
    "<h1>Problem 1</h1>"
   ]
  },
  {
   "cell_type": "markdown",
   "metadata": {},
   "source": [
    "Plays a game of Rock, Paper, Scissors\n",
    "    \n",
    "Args:\n",
    "    player_1_hand: The move of player 1\n",
    "    player_2_hand: The move of player 2\n",
    "\n",
    "Returns:\n",
    "    Either draw or the winning player of the game"
   ]
  },
  {
   "cell_type": "code",
   "execution_count": 2,
   "metadata": {},
   "outputs": [],
   "source": [
    "def RoPaSc(player_1_hand, player_2_hand):\n",
    "    if player_1_hand == player_2_hand: return \"Draw\"\n",
    "    elif player_1_hand == \"scissors\":\n",
    "        if player_2_hand == \"paper\": result = 1\n",
    "        else: result = 2\n",
    "    elif player_1_hand == \"paper\":\n",
    "        if player_2_hand == \"rock\": result = 1\n",
    "        else: result = 2\n",
    "    else:\n",
    "        if player_2_hand == \"scissors\": result = 1\n",
    "        else: result = 2 \n",
    "\n",
    "    return \"Player %s: wins.\" % result"
   ]
  },
  {
   "cell_type": "code",
   "execution_count": 3,
   "metadata": {},
   "outputs": [
    {
     "name": "stdout",
     "output_type": "stream",
     "text": [
      "\n",
      "Player 1, select hand: \n",
      "rock\n",
      "Player 2, select hand: \n",
      "scissors\n",
      "\n",
      "Player 1: rock\n",
      "Player 2: scissors\n",
      "Player 1: wins.\n"
     ]
    }
   ],
   "source": [
    "    print(\"\\nPlayer 1, select hand: \")\n",
    "    p1 = input().lower()\n",
    "    print(\"Player 2, select hand: \")\n",
    "    p2 = input().lower()\n",
    "\n",
    "    print(\"\\nPlayer 1: %s\" % p1)\n",
    "    print(\"Player 2: %s\" % p2)\n",
    "    print(RoPaSc(p1, p2))"
   ]
  },
  {
   "cell_type": "code",
   "execution_count": null,
   "metadata": {},
   "outputs": [],
   "source": []
  }
 ],
 "metadata": {
  "kernelspec": {
   "display_name": "Python 3",
   "language": "python",
   "name": "python3"
  },
  "language_info": {
   "codemirror_mode": {
    "name": "ipython",
    "version": 3
   },
   "file_extension": ".py",
   "mimetype": "text/x-python",
   "name": "python",
   "nbconvert_exporter": "python",
   "pygments_lexer": "ipython3",
   "version": "3.7.3"
  }
 },
 "nbformat": 4,
 "nbformat_minor": 4
}
